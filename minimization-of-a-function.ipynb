{
 "cells": [
  {
   "cell_type": "code",
   "execution_count": null,
   "metadata": {},
   "outputs": [],
   "source": [
    "import numpy as np\n",
    "from iminuit import Minuit\n",
    "\n",
    "def model(a,b,x):\n",
    "    y = a*x + b\n",
    "    return y\n",
    "\n",
    "Ndata_list = np.random.rand(100)\n",
    "#some variable, like position\n",
    "x = np.linspace(0,100,100)\n",
    "\n",
    "#chi-square\n",
    "def chi_square(a,b):\n",
    "    chi_list = []\n",
    "    Nmodel = model(a,b,x)\n",
    "    for i in range(len(Ndata_list)):\n",
    "        Ndata = Ndata_list[i]\n",
    "        chi = (Ndata - Nmodel)**2/Nmodel\n",
    "        chi_list.append(chi)\n",
    "    chi_total = sum(chi_list)\n",
    "    return chi_total\n",
    "\n",
    "#defining minimization function\n",
    "min_chi = Minuit(chi_square, a=0.5, b=0.5)\n",
    "#defining limits of parameters\n",
    "min_chi.limits['a'] = (0,10)\n",
    "min_chi.limits['b'] = (0,10)\n",
    "#defining if profiles or contours are bounded by least squares or max likelihood\n",
    "min_chi.errordef = Minuit.LEAST_SQUARES\n",
    "#minimize the function\n",
    "min_chi.migrad()\n",
    "print(min_chi)"
   ]
  }
 ],
 "metadata": {
  "kernelspec": {
   "display_name": "Python 3.9.9 64-bit",
   "language": "python",
   "name": "python3"
  },
  "language_info": {
   "codemirror_mode": {
    "name": "ipython",
    "version": 3
   },
   "file_extension": ".py",
   "mimetype": "text/x-python",
   "name": "python",
   "nbconvert_exporter": "python",
   "pygments_lexer": "ipython3",
   "version": "3.9.9"
  },
  "orig_nbformat": 4,
  "vscode": {
   "interpreter": {
    "hash": "1e990d233afd70311badbae7ab9b997b7ffd93a748fe192036e93ded9c90ed5c"
   }
  }
 },
 "nbformat": 4,
 "nbformat_minor": 2
}
